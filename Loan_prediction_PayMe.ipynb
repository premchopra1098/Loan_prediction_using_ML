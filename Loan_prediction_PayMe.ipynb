{
  "nbformat": 4,
  "nbformat_minor": 0,
  "metadata": {
    "colab": {
      "name": "Loan_prediction_PayMe.ipynb",
      "provenance": [],
      "collapsed_sections": []
    },
    "kernelspec": {
      "name": "python3",
      "display_name": "Python 3"
    }
  },
  "cells": [
    {
      "cell_type": "markdown",
      "metadata": {
        "id": "nNtvFn6vH6_w",
        "colab_type": "text"
      },
      "source": [
        "The task is to predict  the house price,based on diffenrt conditions"
      ]
    },
    {
      "cell_type": "markdown",
      "metadata": {
        "id": "FEAqx9q-LwkS",
        "colab_type": "text"
      },
      "source": [
        "so,first i am importing data which available in data.description file(provided by company).\n",
        "so i am importing some of the neccessary libraries for importing data. "
      ]
    },
    {
      "cell_type": "code",
      "metadata": {
        "id": "G2lLbi9JH3U3",
        "colab_type": "code",
        "colab": {}
      },
      "source": [
        "import pandas as pd\n",
        "import matplotlib.pyplot as plt\n",
        "import numpy as np\n",
        "import seaborn as sn\n",
        "import warnings\n",
        "warnings.filterwarnings('ignore')"
      ],
      "execution_count": null,
      "outputs": []
    },
    {
      "cell_type": "markdown",
      "metadata": {
        "id": "7v5ErO9oItwF",
        "colab_type": "text"
      },
      "source": [
        "Connect with google drive"
      ]
    },
    {
      "cell_type": "code",
      "metadata": {
        "id": "GlVOY5t7IBCL",
        "colab_type": "code",
        "colab": {
          "base_uri": "https://localhost:8080/",
          "height": 53
        },
        "outputId": "818c402b-bf78-4de7-8da9-ad70c19a6092"
      },
      "source": [
        "from google.colab import drive\n",
        "drive.mount('/content/drive')"
      ],
      "execution_count": null,
      "outputs": [
        {
          "output_type": "stream",
          "text": [
            "Drive already mounted at /content/drive; to attempt to forcibly remount, call drive.mount(\"/content/drive\", force_remount=True).\n"
          ],
          "name": "stdout"
        }
      ]
    },
    {
      "cell_type": "markdown",
      "metadata": {
        "id": "kriE6uo0I1kv",
        "colab_type": "text"
      },
      "source": [
        "Load data from drive .\n",
        "Here i named dataset as Train and test for simplicity in working"
      ]
    },
    {
      "cell_type": "code",
      "metadata": {
        "id": "JxhsSoQtI-Ti",
        "colab_type": "code",
        "colab": {}
      },
      "source": [
        "train=pd.read_csv(\"/content/drive/My Drive/train.csv\")\n",
        "test=pd.read_csv(\"/content/drive/My Drive/test.csv\")"
      ],
      "execution_count": null,
      "outputs": []
    },
    {
      "cell_type": "markdown",
      "metadata": {
        "id": "r49VNFQrJEMt",
        "colab_type": "text"
      },
      "source": [
        "Let check shape and size of dataset"
      ]
    },
    {
      "cell_type": "code",
      "metadata": {
        "id": "bTxVFFEQOC31",
        "colab_type": "code",
        "colab": {
          "base_uri": "https://localhost:8080/",
          "height": 50
        },
        "outputId": "3db01c44-da30-47f3-a7a1-f163d70cc33f"
      },
      "source": [
        "print (\"Train data shape:\", train.shape)\n",
        "print (\"Test data shape:\", test.shape)"
      ],
      "execution_count": null,
      "outputs": [
        {
          "output_type": "stream",
          "text": [
            "Train data shape: (1460, 81)\n",
            "Test data shape: (1459, 80)\n"
          ],
          "name": "stdout"
        }
      ]
    },
    {
      "cell_type": "markdown",
      "metadata": {
        "id": "JEu3TlufJLP8",
        "colab_type": "text"
      },
      "source": [
        "Now i want to look some row of dataset"
      ]
    },
    {
      "cell_type": "code",
      "metadata": {
        "id": "XPLVrqsCOKZl",
        "colab_type": "code",
        "colab": {
          "base_uri": "https://localhost:8080/",
          "height": 245
        },
        "outputId": "66719919-11ac-435c-b8c9-11852c84e60f"
      },
      "source": [
        "train.head()"
      ],
      "execution_count": null,
      "outputs": [
        {
          "output_type": "execute_result",
          "data": {
            "text/html": [
              "<div>\n",
              "<style scoped>\n",
              "    .dataframe tbody tr th:only-of-type {\n",
              "        vertical-align: middle;\n",
              "    }\n",
              "\n",
              "    .dataframe tbody tr th {\n",
              "        vertical-align: top;\n",
              "    }\n",
              "\n",
              "    .dataframe thead th {\n",
              "        text-align: right;\n",
              "    }\n",
              "</style>\n",
              "<table border=\"1\" class=\"dataframe\">\n",
              "  <thead>\n",
              "    <tr style=\"text-align: right;\">\n",
              "      <th></th>\n",
              "      <th>Id</th>\n",
              "      <th>MSSubClass</th>\n",
              "      <th>MSZoning</th>\n",
              "      <th>LotFrontage</th>\n",
              "      <th>LotArea</th>\n",
              "      <th>Street</th>\n",
              "      <th>Alley</th>\n",
              "      <th>LotShape</th>\n",
              "      <th>LandContour</th>\n",
              "      <th>Utilities</th>\n",
              "      <th>LotConfig</th>\n",
              "      <th>LandSlope</th>\n",
              "      <th>Neighborhood</th>\n",
              "      <th>Condition1</th>\n",
              "      <th>Condition2</th>\n",
              "      <th>BldgType</th>\n",
              "      <th>HouseStyle</th>\n",
              "      <th>OverallQual</th>\n",
              "      <th>OverallCond</th>\n",
              "      <th>YearBuilt</th>\n",
              "      <th>YearRemodAdd</th>\n",
              "      <th>RoofStyle</th>\n",
              "      <th>RoofMatl</th>\n",
              "      <th>Exterior1st</th>\n",
              "      <th>Exterior2nd</th>\n",
              "      <th>MasVnrType</th>\n",
              "      <th>MasVnrArea</th>\n",
              "      <th>ExterQual</th>\n",
              "      <th>ExterCond</th>\n",
              "      <th>Foundation</th>\n",
              "      <th>BsmtQual</th>\n",
              "      <th>BsmtCond</th>\n",
              "      <th>BsmtExposure</th>\n",
              "      <th>BsmtFinType1</th>\n",
              "      <th>BsmtFinSF1</th>\n",
              "      <th>BsmtFinType2</th>\n",
              "      <th>BsmtFinSF2</th>\n",
              "      <th>BsmtUnfSF</th>\n",
              "      <th>TotalBsmtSF</th>\n",
              "      <th>Heating</th>\n",
              "      <th>...</th>\n",
              "      <th>CentralAir</th>\n",
              "      <th>Electrical</th>\n",
              "      <th>1stFlrSF</th>\n",
              "      <th>2ndFlrSF</th>\n",
              "      <th>LowQualFinSF</th>\n",
              "      <th>GrLivArea</th>\n",
              "      <th>BsmtFullBath</th>\n",
              "      <th>BsmtHalfBath</th>\n",
              "      <th>FullBath</th>\n",
              "      <th>HalfBath</th>\n",
              "      <th>BedroomAbvGr</th>\n",
              "      <th>KitchenAbvGr</th>\n",
              "      <th>KitchenQual</th>\n",
              "      <th>TotRmsAbvGrd</th>\n",
              "      <th>Functional</th>\n",
              "      <th>Fireplaces</th>\n",
              "      <th>FireplaceQu</th>\n",
              "      <th>GarageType</th>\n",
              "      <th>GarageYrBlt</th>\n",
              "      <th>GarageFinish</th>\n",
              "      <th>GarageCars</th>\n",
              "      <th>GarageArea</th>\n",
              "      <th>GarageQual</th>\n",
              "      <th>GarageCond</th>\n",
              "      <th>PavedDrive</th>\n",
              "      <th>WoodDeckSF</th>\n",
              "      <th>OpenPorchSF</th>\n",
              "      <th>EnclosedPorch</th>\n",
              "      <th>3SsnPorch</th>\n",
              "      <th>ScreenPorch</th>\n",
              "      <th>PoolArea</th>\n",
              "      <th>PoolQC</th>\n",
              "      <th>Fence</th>\n",
              "      <th>MiscFeature</th>\n",
              "      <th>MiscVal</th>\n",
              "      <th>MoSold</th>\n",
              "      <th>YrSold</th>\n",
              "      <th>SaleType</th>\n",
              "      <th>SaleCondition</th>\n",
              "      <th>SalePrice</th>\n",
              "    </tr>\n",
              "  </thead>\n",
              "  <tbody>\n",
              "    <tr>\n",
              "      <th>0</th>\n",
              "      <td>1</td>\n",
              "      <td>60</td>\n",
              "      <td>RL</td>\n",
              "      <td>65.0</td>\n",
              "      <td>8450</td>\n",
              "      <td>Pave</td>\n",
              "      <td>NaN</td>\n",
              "      <td>Reg</td>\n",
              "      <td>Lvl</td>\n",
              "      <td>AllPub</td>\n",
              "      <td>Inside</td>\n",
              "      <td>Gtl</td>\n",
              "      <td>CollgCr</td>\n",
              "      <td>Norm</td>\n",
              "      <td>Norm</td>\n",
              "      <td>1Fam</td>\n",
              "      <td>2Story</td>\n",
              "      <td>7</td>\n",
              "      <td>5</td>\n",
              "      <td>2003</td>\n",
              "      <td>2003</td>\n",
              "      <td>Gable</td>\n",
              "      <td>CompShg</td>\n",
              "      <td>VinylSd</td>\n",
              "      <td>VinylSd</td>\n",
              "      <td>BrkFace</td>\n",
              "      <td>196.0</td>\n",
              "      <td>Gd</td>\n",
              "      <td>TA</td>\n",
              "      <td>PConc</td>\n",
              "      <td>Gd</td>\n",
              "      <td>TA</td>\n",
              "      <td>No</td>\n",
              "      <td>GLQ</td>\n",
              "      <td>706</td>\n",
              "      <td>Unf</td>\n",
              "      <td>0</td>\n",
              "      <td>150</td>\n",
              "      <td>856</td>\n",
              "      <td>GasA</td>\n",
              "      <td>...</td>\n",
              "      <td>Y</td>\n",
              "      <td>SBrkr</td>\n",
              "      <td>856</td>\n",
              "      <td>854</td>\n",
              "      <td>0</td>\n",
              "      <td>1710</td>\n",
              "      <td>1</td>\n",
              "      <td>0</td>\n",
              "      <td>2</td>\n",
              "      <td>1</td>\n",
              "      <td>3</td>\n",
              "      <td>1</td>\n",
              "      <td>Gd</td>\n",
              "      <td>8</td>\n",
              "      <td>Typ</td>\n",
              "      <td>0</td>\n",
              "      <td>NaN</td>\n",
              "      <td>Attchd</td>\n",
              "      <td>2003.0</td>\n",
              "      <td>RFn</td>\n",
              "      <td>2</td>\n",
              "      <td>548</td>\n",
              "      <td>TA</td>\n",
              "      <td>TA</td>\n",
              "      <td>Y</td>\n",
              "      <td>0</td>\n",
              "      <td>61</td>\n",
              "      <td>0</td>\n",
              "      <td>0</td>\n",
              "      <td>0</td>\n",
              "      <td>0</td>\n",
              "      <td>NaN</td>\n",
              "      <td>NaN</td>\n",
              "      <td>NaN</td>\n",
              "      <td>0</td>\n",
              "      <td>2</td>\n",
              "      <td>2008</td>\n",
              "      <td>WD</td>\n",
              "      <td>Normal</td>\n",
              "      <td>208500</td>\n",
              "    </tr>\n",
              "    <tr>\n",
              "      <th>1</th>\n",
              "      <td>2</td>\n",
              "      <td>20</td>\n",
              "      <td>RL</td>\n",
              "      <td>80.0</td>\n",
              "      <td>9600</td>\n",
              "      <td>Pave</td>\n",
              "      <td>NaN</td>\n",
              "      <td>Reg</td>\n",
              "      <td>Lvl</td>\n",
              "      <td>AllPub</td>\n",
              "      <td>FR2</td>\n",
              "      <td>Gtl</td>\n",
              "      <td>Veenker</td>\n",
              "      <td>Feedr</td>\n",
              "      <td>Norm</td>\n",
              "      <td>1Fam</td>\n",
              "      <td>1Story</td>\n",
              "      <td>6</td>\n",
              "      <td>8</td>\n",
              "      <td>1976</td>\n",
              "      <td>1976</td>\n",
              "      <td>Gable</td>\n",
              "      <td>CompShg</td>\n",
              "      <td>MetalSd</td>\n",
              "      <td>MetalSd</td>\n",
              "      <td>None</td>\n",
              "      <td>0.0</td>\n",
              "      <td>TA</td>\n",
              "      <td>TA</td>\n",
              "      <td>CBlock</td>\n",
              "      <td>Gd</td>\n",
              "      <td>TA</td>\n",
              "      <td>Gd</td>\n",
              "      <td>ALQ</td>\n",
              "      <td>978</td>\n",
              "      <td>Unf</td>\n",
              "      <td>0</td>\n",
              "      <td>284</td>\n",
              "      <td>1262</td>\n",
              "      <td>GasA</td>\n",
              "      <td>...</td>\n",
              "      <td>Y</td>\n",
              "      <td>SBrkr</td>\n",
              "      <td>1262</td>\n",
              "      <td>0</td>\n",
              "      <td>0</td>\n",
              "      <td>1262</td>\n",
              "      <td>0</td>\n",
              "      <td>1</td>\n",
              "      <td>2</td>\n",
              "      <td>0</td>\n",
              "      <td>3</td>\n",
              "      <td>1</td>\n",
              "      <td>TA</td>\n",
              "      <td>6</td>\n",
              "      <td>Typ</td>\n",
              "      <td>1</td>\n",
              "      <td>TA</td>\n",
              "      <td>Attchd</td>\n",
              "      <td>1976.0</td>\n",
              "      <td>RFn</td>\n",
              "      <td>2</td>\n",
              "      <td>460</td>\n",
              "      <td>TA</td>\n",
              "      <td>TA</td>\n",
              "      <td>Y</td>\n",
              "      <td>298</td>\n",
              "      <td>0</td>\n",
              "      <td>0</td>\n",
              "      <td>0</td>\n",
              "      <td>0</td>\n",
              "      <td>0</td>\n",
              "      <td>NaN</td>\n",
              "      <td>NaN</td>\n",
              "      <td>NaN</td>\n",
              "      <td>0</td>\n",
              "      <td>5</td>\n",
              "      <td>2007</td>\n",
              "      <td>WD</td>\n",
              "      <td>Normal</td>\n",
              "      <td>181500</td>\n",
              "    </tr>\n",
              "    <tr>\n",
              "      <th>2</th>\n",
              "      <td>3</td>\n",
              "      <td>60</td>\n",
              "      <td>RL</td>\n",
              "      <td>68.0</td>\n",
              "      <td>11250</td>\n",
              "      <td>Pave</td>\n",
              "      <td>NaN</td>\n",
              "      <td>IR1</td>\n",
              "      <td>Lvl</td>\n",
              "      <td>AllPub</td>\n",
              "      <td>Inside</td>\n",
              "      <td>Gtl</td>\n",
              "      <td>CollgCr</td>\n",
              "      <td>Norm</td>\n",
              "      <td>Norm</td>\n",
              "      <td>1Fam</td>\n",
              "      <td>2Story</td>\n",
              "      <td>7</td>\n",
              "      <td>5</td>\n",
              "      <td>2001</td>\n",
              "      <td>2002</td>\n",
              "      <td>Gable</td>\n",
              "      <td>CompShg</td>\n",
              "      <td>VinylSd</td>\n",
              "      <td>VinylSd</td>\n",
              "      <td>BrkFace</td>\n",
              "      <td>162.0</td>\n",
              "      <td>Gd</td>\n",
              "      <td>TA</td>\n",
              "      <td>PConc</td>\n",
              "      <td>Gd</td>\n",
              "      <td>TA</td>\n",
              "      <td>Mn</td>\n",
              "      <td>GLQ</td>\n",
              "      <td>486</td>\n",
              "      <td>Unf</td>\n",
              "      <td>0</td>\n",
              "      <td>434</td>\n",
              "      <td>920</td>\n",
              "      <td>GasA</td>\n",
              "      <td>...</td>\n",
              "      <td>Y</td>\n",
              "      <td>SBrkr</td>\n",
              "      <td>920</td>\n",
              "      <td>866</td>\n",
              "      <td>0</td>\n",
              "      <td>1786</td>\n",
              "      <td>1</td>\n",
              "      <td>0</td>\n",
              "      <td>2</td>\n",
              "      <td>1</td>\n",
              "      <td>3</td>\n",
              "      <td>1</td>\n",
              "      <td>Gd</td>\n",
              "      <td>6</td>\n",
              "      <td>Typ</td>\n",
              "      <td>1</td>\n",
              "      <td>TA</td>\n",
              "      <td>Attchd</td>\n",
              "      <td>2001.0</td>\n",
              "      <td>RFn</td>\n",
              "      <td>2</td>\n",
              "      <td>608</td>\n",
              "      <td>TA</td>\n",
              "      <td>TA</td>\n",
              "      <td>Y</td>\n",
              "      <td>0</td>\n",
              "      <td>42</td>\n",
              "      <td>0</td>\n",
              "      <td>0</td>\n",
              "      <td>0</td>\n",
              "      <td>0</td>\n",
              "      <td>NaN</td>\n",
              "      <td>NaN</td>\n",
              "      <td>NaN</td>\n",
              "      <td>0</td>\n",
              "      <td>9</td>\n",
              "      <td>2008</td>\n",
              "      <td>WD</td>\n",
              "      <td>Normal</td>\n",
              "      <td>223500</td>\n",
              "    </tr>\n",
              "    <tr>\n",
              "      <th>3</th>\n",
              "      <td>4</td>\n",
              "      <td>70</td>\n",
              "      <td>RL</td>\n",
              "      <td>60.0</td>\n",
              "      <td>9550</td>\n",
              "      <td>Pave</td>\n",
              "      <td>NaN</td>\n",
              "      <td>IR1</td>\n",
              "      <td>Lvl</td>\n",
              "      <td>AllPub</td>\n",
              "      <td>Corner</td>\n",
              "      <td>Gtl</td>\n",
              "      <td>Crawfor</td>\n",
              "      <td>Norm</td>\n",
              "      <td>Norm</td>\n",
              "      <td>1Fam</td>\n",
              "      <td>2Story</td>\n",
              "      <td>7</td>\n",
              "      <td>5</td>\n",
              "      <td>1915</td>\n",
              "      <td>1970</td>\n",
              "      <td>Gable</td>\n",
              "      <td>CompShg</td>\n",
              "      <td>Wd Sdng</td>\n",
              "      <td>Wd Shng</td>\n",
              "      <td>None</td>\n",
              "      <td>0.0</td>\n",
              "      <td>TA</td>\n",
              "      <td>TA</td>\n",
              "      <td>BrkTil</td>\n",
              "      <td>TA</td>\n",
              "      <td>Gd</td>\n",
              "      <td>No</td>\n",
              "      <td>ALQ</td>\n",
              "      <td>216</td>\n",
              "      <td>Unf</td>\n",
              "      <td>0</td>\n",
              "      <td>540</td>\n",
              "      <td>756</td>\n",
              "      <td>GasA</td>\n",
              "      <td>...</td>\n",
              "      <td>Y</td>\n",
              "      <td>SBrkr</td>\n",
              "      <td>961</td>\n",
              "      <td>756</td>\n",
              "      <td>0</td>\n",
              "      <td>1717</td>\n",
              "      <td>1</td>\n",
              "      <td>0</td>\n",
              "      <td>1</td>\n",
              "      <td>0</td>\n",
              "      <td>3</td>\n",
              "      <td>1</td>\n",
              "      <td>Gd</td>\n",
              "      <td>7</td>\n",
              "      <td>Typ</td>\n",
              "      <td>1</td>\n",
              "      <td>Gd</td>\n",
              "      <td>Detchd</td>\n",
              "      <td>1998.0</td>\n",
              "      <td>Unf</td>\n",
              "      <td>3</td>\n",
              "      <td>642</td>\n",
              "      <td>TA</td>\n",
              "      <td>TA</td>\n",
              "      <td>Y</td>\n",
              "      <td>0</td>\n",
              "      <td>35</td>\n",
              "      <td>272</td>\n",
              "      <td>0</td>\n",
              "      <td>0</td>\n",
              "      <td>0</td>\n",
              "      <td>NaN</td>\n",
              "      <td>NaN</td>\n",
              "      <td>NaN</td>\n",
              "      <td>0</td>\n",
              "      <td>2</td>\n",
              "      <td>2006</td>\n",
              "      <td>WD</td>\n",
              "      <td>Abnorml</td>\n",
              "      <td>140000</td>\n",
              "    </tr>\n",
              "    <tr>\n",
              "      <th>4</th>\n",
              "      <td>5</td>\n",
              "      <td>60</td>\n",
              "      <td>RL</td>\n",
              "      <td>84.0</td>\n",
              "      <td>14260</td>\n",
              "      <td>Pave</td>\n",
              "      <td>NaN</td>\n",
              "      <td>IR1</td>\n",
              "      <td>Lvl</td>\n",
              "      <td>AllPub</td>\n",
              "      <td>FR2</td>\n",
              "      <td>Gtl</td>\n",
              "      <td>NoRidge</td>\n",
              "      <td>Norm</td>\n",
              "      <td>Norm</td>\n",
              "      <td>1Fam</td>\n",
              "      <td>2Story</td>\n",
              "      <td>8</td>\n",
              "      <td>5</td>\n",
              "      <td>2000</td>\n",
              "      <td>2000</td>\n",
              "      <td>Gable</td>\n",
              "      <td>CompShg</td>\n",
              "      <td>VinylSd</td>\n",
              "      <td>VinylSd</td>\n",
              "      <td>BrkFace</td>\n",
              "      <td>350.0</td>\n",
              "      <td>Gd</td>\n",
              "      <td>TA</td>\n",
              "      <td>PConc</td>\n",
              "      <td>Gd</td>\n",
              "      <td>TA</td>\n",
              "      <td>Av</td>\n",
              "      <td>GLQ</td>\n",
              "      <td>655</td>\n",
              "      <td>Unf</td>\n",
              "      <td>0</td>\n",
              "      <td>490</td>\n",
              "      <td>1145</td>\n",
              "      <td>GasA</td>\n",
              "      <td>...</td>\n",
              "      <td>Y</td>\n",
              "      <td>SBrkr</td>\n",
              "      <td>1145</td>\n",
              "      <td>1053</td>\n",
              "      <td>0</td>\n",
              "      <td>2198</td>\n",
              "      <td>1</td>\n",
              "      <td>0</td>\n",
              "      <td>2</td>\n",
              "      <td>1</td>\n",
              "      <td>4</td>\n",
              "      <td>1</td>\n",
              "      <td>Gd</td>\n",
              "      <td>9</td>\n",
              "      <td>Typ</td>\n",
              "      <td>1</td>\n",
              "      <td>TA</td>\n",
              "      <td>Attchd</td>\n",
              "      <td>2000.0</td>\n",
              "      <td>RFn</td>\n",
              "      <td>3</td>\n",
              "      <td>836</td>\n",
              "      <td>TA</td>\n",
              "      <td>TA</td>\n",
              "      <td>Y</td>\n",
              "      <td>192</td>\n",
              "      <td>84</td>\n",
              "      <td>0</td>\n",
              "      <td>0</td>\n",
              "      <td>0</td>\n",
              "      <td>0</td>\n",
              "      <td>NaN</td>\n",
              "      <td>NaN</td>\n",
              "      <td>NaN</td>\n",
              "      <td>0</td>\n",
              "      <td>12</td>\n",
              "      <td>2008</td>\n",
              "      <td>WD</td>\n",
              "      <td>Normal</td>\n",
              "      <td>250000</td>\n",
              "    </tr>\n",
              "  </tbody>\n",
              "</table>\n",
              "<p>5 rows × 81 columns</p>\n",
              "</div>"
            ],
            "text/plain": [
              "   Id  MSSubClass MSZoning  ...  SaleType  SaleCondition SalePrice\n",
              "0   1          60       RL  ...        WD         Normal    208500\n",
              "1   2          20       RL  ...        WD         Normal    181500\n",
              "2   3          60       RL  ...        WD         Normal    223500\n",
              "3   4          70       RL  ...        WD        Abnorml    140000\n",
              "4   5          60       RL  ...        WD         Normal    250000\n",
              "\n",
              "[5 rows x 81 columns]"
            ]
          },
          "metadata": {
            "tags": []
          },
          "execution_count": 230
        }
      ]
    },
    {
      "cell_type": "markdown",
      "metadata": {
        "id": "073JcPbsKB9v",
        "colab_type": "text"
      },
      "source": [
        "i am using describe() to get more information about the data"
      ]
    },
    {
      "cell_type": "code",
      "metadata": {
        "id": "cLreR_9iOqrk",
        "colab_type": "code",
        "colab": {
          "base_uri": "https://localhost:8080/",
          "height": 167
        },
        "outputId": "faf113e3-48a9-4598-e742-00b54f3dd62d"
      },
      "source": [
        "train.SalePrice.describe()"
      ],
      "execution_count": null,
      "outputs": [
        {
          "output_type": "execute_result",
          "data": {
            "text/plain": [
              "count      1460.000000\n",
              "mean     180921.195890\n",
              "std       79442.502883\n",
              "min       34900.000000\n",
              "25%      129975.000000\n",
              "50%      163000.000000\n",
              "75%      214000.000000\n",
              "max      755000.000000\n",
              "Name: SalePrice, dtype: float64"
            ]
          },
          "metadata": {
            "tags": []
          },
          "execution_count": 231
        }
      ]
    },
    {
      "cell_type": "markdown",
      "metadata": {
        "id": "j-D4Rr_fL_bN",
        "colab_type": "text"
      },
      "source": [
        "I want to  check for skewness, which is a measure of the shape of the distribution of values."
      ]
    },
    {
      "cell_type": "markdown",
      "metadata": {
        "id": "ti3Jim5pMMQX",
        "colab_type": "text"
      },
      "source": [
        "I use plt.hist() to plot a histogram of SalePrice. Notice that the distribution has a longer tail on the right. The distribution is positively skewed."
      ]
    },
    {
      "cell_type": "code",
      "metadata": {
        "id": "QrWk5YKSOun6",
        "colab_type": "code",
        "colab": {
          "base_uri": "https://localhost:8080/",
          "height": 390
        },
        "outputId": "bd39a508-5ec8-48d2-9407-3948e5d5ab14"
      },
      "source": [
        "print (\"Skew is:\", train.SalePrice.skew())\n",
        "plt.style.use('dark_background')\n",
        "plt.hist(train.SalePrice, color='red')\n",
        "\n",
        "plt.show()"
      ],
      "execution_count": null,
      "outputs": [
        {
          "output_type": "stream",
          "text": [
            "Skew is: 1.8828757597682129\n"
          ],
          "name": "stdout"
        },
        {
          "output_type": "display_data",
          "data": {
            "image/png": "[encoded data removed]",
            "text/plain": [
              "<Figure size 720x432 with 1 Axes>"
            ]
          },
          "metadata": {
            "tags": []
          }
        }
      ]
    },
    {
      "cell_type": "markdown",
      "metadata": {
        "id": "ml1ye4AFMuTQ",
        "colab_type": "text"
      },
      "source": [
        "Now I use np.log() to transform train.SalePric and calculate the skewness a second time, as well as re-plot the data. A value closer to 0 means that we have improved the skewness of the data. We can see visually that the data will more resembles a normal distribution."
      ]
    },
    {
      "cell_type": "code",
      "metadata": {
        "id": "G_kO_xwTOz2j",
        "colab_type": "code",
        "colab": {
          "base_uri": "https://localhost:8080/",
          "height": 390
        },
        "outputId": "3b9586fd-3502-4fad-87ca-41da5d9d8e64"
      },
      "source": [
        "target = np.log(train.SalePrice)\n",
        "print (\"Skew is:\", target.skew())\n",
        "plt.style.use('dark_background')\n",
        "plt.hist(target, color='green')\n",
        "plt.show()"
      ],
      "execution_count": null,
      "outputs": [
        {
          "output_type": "stream",
          "text": [
            "Skew is: 0.12133506220520406\n"
          ],
          "name": "stdout"
        },
        {
          "output_type": "display_data",
          "data": {
            "image/png": "[encoded data removed]",
            "text/plain": [
              "<Figure size 720x432 with 1 Axes>"
            ]
          },
          "metadata": {
            "tags": []
          }
        }
      ]
    },
    {
      "cell_type": "markdown",
      "metadata": {
        "id": "hS96mo8_NDML",
        "colab_type": "text"
      },
      "source": [
        "Now that I’ve transformed the target variable, let’s consider our features. First, I’ll check out the numerical features and make some plots. The .select_dtypes() method will return a subset of columns matching the specified data types."
      ]
    },
    {
      "cell_type": "code",
      "metadata": {
        "id": "oZZ-7p-jO6Ud",
        "colab_type": "code",
        "colab": {
          "base_uri": "https://localhost:8080/",
          "height": 669
        },
        "outputId": "5fea98b4-0497-45ac-a897-da462850575d"
      },
      "source": [
        "\n",
        "numeric_features = train.select_dtypes(include=[np.number])\n",
        "numeric_features.dtypes"
      ],
      "execution_count": null,
      "outputs": [
        {
          "output_type": "execute_result",
          "data": {
            "text/plain": [
              "Id                 int64\n",
              "MSSubClass         int64\n",
              "LotFrontage      float64\n",
              "LotArea            int64\n",
              "OverallQual        int64\n",
              "OverallCond        int64\n",
              "YearBuilt          int64\n",
              "YearRemodAdd       int64\n",
              "MasVnrArea       float64\n",
              "BsmtFinSF1         int64\n",
              "BsmtFinSF2         int64\n",
              "BsmtUnfSF          int64\n",
              "TotalBsmtSF        int64\n",
              "1stFlrSF           int64\n",
              "2ndFlrSF           int64\n",
              "LowQualFinSF       int64\n",
              "GrLivArea          int64\n",
              "BsmtFullBath       int64\n",
              "BsmtHalfBath       int64\n",
              "FullBath           int64\n",
              "HalfBath           int64\n",
              "BedroomAbvGr       int64\n",
              "KitchenAbvGr       int64\n",
              "TotRmsAbvGrd       int64\n",
              "Fireplaces         int64\n",
              "GarageYrBlt      float64\n",
              "GarageCars         int64\n",
              "GarageArea         int64\n",
              "WoodDeckSF         int64\n",
              "OpenPorchSF        int64\n",
              "EnclosedPorch      int64\n",
              "3SsnPorch          int64\n",
              "ScreenPorch        int64\n",
              "PoolArea           int64\n",
              "MiscVal            int64\n",
              "MoSold             int64\n",
              "YrSold             int64\n",
              "SalePrice          int64\n",
              "dtype: object"
            ]
          },
          "metadata": {
            "tags": []
          },
          "execution_count": 234
        }
      ]
    },
    {
      "cell_type": "markdown",
      "metadata": {
        "id": "OohR2ctrNPrL",
        "colab_type": "text"
      },
      "source": [
        "The DataFrame.corr() method displays the correlation (or relationship) between the columns. We’ll examine the correlations between the features and the target."
      ]
    },
    {
      "cell_type": "code",
      "metadata": {
        "id": "KCTMmDGMO_C9",
        "colab_type": "code",
        "colab": {
          "base_uri": "https://localhost:8080/",
          "height": 234
        },
        "outputId": "82e91759-201e-4584-e9fe-1eabd8376b7e"
      },
      "source": [
        "corr = numeric_features.corr()\n",
        "print (corr['SalePrice'].sort_values(ascending=False)[:5], '\\n')\n",
        "print (corr['SalePrice'].sort_values(ascending=False)[-5:])"
      ],
      "execution_count": null,
      "outputs": [
        {
          "output_type": "stream",
          "text": [
            "SalePrice      1.000000\n",
            "OverallQual    0.790982\n",
            "GrLivArea      0.708624\n",
            "GarageCars     0.640409\n",
            "GarageArea     0.623431\n",
            "Name: SalePrice, dtype: float64 \n",
            "\n",
            "YrSold          -0.028923\n",
            "OverallCond     -0.077856\n",
            "MSSubClass      -0.084284\n",
            "EnclosedPorch   -0.128578\n",
            "KitchenAbvGr    -0.135907\n",
            "Name: SalePrice, dtype: float64\n"
          ],
          "name": "stdout"
        }
      ]
    },
    {
      "cell_type": "markdown",
      "metadata": {
        "id": "W0ziSCHlNcOU",
        "colab_type": "text"
      },
      "source": [
        "The first five features are the most positively correlated with SalePrice, while the next five are the most negatively correlated.\n",
        "\n",
        "Let’s dig deeper on OverallQual. We can use the .unique() method to get the unique values."
      ]
    },
    {
      "cell_type": "code",
      "metadata": {
        "id": "HTx9LiwXPEQQ",
        "colab_type": "code",
        "colab": {
          "base_uri": "https://localhost:8080/",
          "height": 33
        },
        "outputId": "11a143f3-8501-4939-a7aa-5a6ec9b8af06"
      },
      "source": [
        "train.OverallQual.unique()"
      ],
      "execution_count": null,
      "outputs": [
        {
          "output_type": "execute_result",
          "data": {
            "text/plain": [
              "array([ 7,  6,  8,  5,  9,  4, 10,  3,  1,  2])"
            ]
          },
          "metadata": {
            "tags": []
          },
          "execution_count": 236
        }
      ]
    },
    {
      "cell_type": "markdown",
      "metadata": {
        "id": "Y1XqacLWNmfG",
        "colab_type": "text"
      },
      "source": [
        "I am creating  a pivot table to further investigate the relationship between OverallQual and SalePrice. I set index='OverallQual' and values='SalePrice'. We chose to look at the median here."
      ]
    },
    {
      "cell_type": "code",
      "metadata": {
        "id": "Bq7eftJVPI4M",
        "colab_type": "code",
        "colab": {}
      },
      "source": [
        "quality_pivot = train.pivot_table(index='OverallQual',\n",
        "                  values='SalePrice', aggfunc=np.median)"
      ],
      "execution_count": null,
      "outputs": []
    },
    {
      "cell_type": "code",
      "metadata": {
        "id": "HkHAPFllPNWH",
        "colab_type": "code",
        "colab": {
          "base_uri": "https://localhost:8080/",
          "height": 375
        },
        "outputId": "21f5193b-f57c-4143-9abb-f7c1eeffede2"
      },
      "source": [
        "quality_pivot"
      ],
      "execution_count": null,
      "outputs": [
        {
          "output_type": "execute_result",
          "data": {
            "text/html": [
              "<div>\n",
              "<style scoped>\n",
              "    .dataframe tbody tr th:only-of-type {\n",
              "        vertical-align: middle;\n",
              "    }\n",
              "\n",
              "    .dataframe tbody tr th {\n",
              "        vertical-align: top;\n",
              "    }\n",
              "\n",
              "    .dataframe thead th {\n",
              "        text-align: right;\n",
              "    }\n",
              "</style>\n",
              "<table border=\"1\" class=\"dataframe\">\n",
              "  <thead>\n",
              "    <tr style=\"text-align: right;\">\n",
              "      <th></th>\n",
              "      <th>SalePrice</th>\n",
              "    </tr>\n",
              "    <tr>\n",
              "      <th>OverallQual</th>\n",
              "      <th></th>\n",
              "    </tr>\n",
              "  </thead>\n",
              "  <tbody>\n",
              "    <tr>\n",
              "      <th>1</th>\n",
              "      <td>50150</td>\n",
              "    </tr>\n",
              "    <tr>\n",
              "      <th>2</th>\n",
              "      <td>60000</td>\n",
              "    </tr>\n",
              "    <tr>\n",
              "      <th>3</th>\n",
              "      <td>86250</td>\n",
              "    </tr>\n",
              "    <tr>\n",
              "      <th>4</th>\n",
              "      <td>108000</td>\n",
              "    </tr>\n",
              "    <tr>\n",
              "      <th>5</th>\n",
              "      <td>133000</td>\n",
              "    </tr>\n",
              "    <tr>\n",
              "      <th>6</th>\n",
              "      <td>160000</td>\n",
              "    </tr>\n",
              "    <tr>\n",
              "      <th>7</th>\n",
              "      <td>200141</td>\n",
              "    </tr>\n",
              "    <tr>\n",
              "      <th>8</th>\n",
              "      <td>269750</td>\n",
              "    </tr>\n",
              "    <tr>\n",
              "      <th>9</th>\n",
              "      <td>345000</td>\n",
              "    </tr>\n",
              "    <tr>\n",
              "      <th>10</th>\n",
              "      <td>432390</td>\n",
              "    </tr>\n",
              "  </tbody>\n",
              "</table>\n",
              "</div>"
            ],
            "text/plain": [
              "             SalePrice\n",
              "OverallQual           \n",
              "1                50150\n",
              "2                60000\n",
              "3                86250\n",
              "4               108000\n",
              "5               133000\n",
              "6               160000\n",
              "7               200141\n",
              "8               269750\n",
              "9               345000\n",
              "10              432390"
            ]
          },
          "metadata": {
            "tags": []
          },
          "execution_count": 238
        }
      ]
    },
    {
      "cell_type": "markdown",
      "metadata": {
        "id": "FJNy2PWdNzaS",
        "colab_type": "text"
      },
      "source": [
        "To help us visualize this pivot table more easily, I am  creating  a bar plot using the Series.plot() method."
      ]
    },
    {
      "cell_type": "code",
      "metadata": {
        "id": "98uUnxScPQ6r",
        "colab_type": "code",
        "colab": {
          "base_uri": "https://localhost:8080/",
          "height": 388
        },
        "outputId": "b23e316c-b322-41c5-8725-092d07579859"
      },
      "source": [
        "quality_pivot.plot(kind='bar', color='blue')\n",
        "plt.xlabel('Overall Quality')\n",
        "plt.ylabel('Median Sale Price')\n",
        "plt.style.use('dark_background')\n",
        "plt.xticks(rotation=0)\n",
        "plt.show()"
      ],
      "execution_count": null,
      "outputs": [
        {
          "output_type": "display_data",
          "data": {
            "image/png": "[encoded data removed]",
            "text/plain": [
              "<Figure size 720x432 with 1 Axes>"
            ]
          },
          "metadata": {
            "tags": []
          }
        }
      ]
    },
    {
      "cell_type": "markdown",
      "metadata": {
        "id": "IZytf_gzOKxM",
        "colab_type": "text"
      },
      "source": [
        "Next, let’s use plt.scatter() to generate some scatter plots and visualize the relationship between the Ground Living Area GrLivArea and SalePrice."
      ]
    },
    {
      "cell_type": "code",
      "metadata": {
        "id": "-jnExfHyQDxP",
        "colab_type": "code",
        "colab": {
          "base_uri": "https://localhost:8080/",
          "height": 391
        },
        "outputId": "093f57ad-dc9e-416a-ab0a-3d72eb3e642d"
      },
      "source": [
        "plt.scatter(x=train['GarageArea'], y=target)\n",
        "plt.ylabel('Sale Price')\n",
        "plt.xlabel('Garage Area')\n",
        "plt.show()"
      ],
      "execution_count": null,
      "outputs": [
        {
          "output_type": "display_data",
          "data": {
            "image/png": "[encoded data removed]",
            "text/plain": [
              "<Figure size 720x432 with 1 Axes>"
            ]
          },
          "metadata": {
            "tags": []
          }
        }
      ]
    },
    {
      "cell_type": "code",
      "metadata": {
        "id": "aL6uI5AsPWod",
        "colab_type": "code",
        "colab": {
          "base_uri": "https://localhost:8080/",
          "height": 391
        },
        "outputId": "e9dc3beb-2ca4-4888-ebe1-5022f04690cd"
      },
      "source": [
        "plt.scatter(x=train['GrLivArea'], y=target)\n",
        "plt.ylabel('Sale Price')\n",
        "plt.xlabel('Above grade (ground) living area square feet')\n",
        "plt.show()"
      ],
      "execution_count": null,
      "outputs": [
        {
          "output_type": "display_data",
          "data": {
            "image/png": "[encoded data removed]",
            "text/plain": [
              "<Figure size 720x432 with 1 Axes>"
            ]
          },
          "metadata": {
            "tags": []
          }
        }
      ]
    },
    {
      "cell_type": "markdown",
      "metadata": {
        "id": "YXxILCrtOgD_",
        "colab_type": "text"
      },
      "source": [
        "Here, I am creating new dataframe with some outliers removed."
      ]
    },
    {
      "cell_type": "code",
      "metadata": {
        "id": "52c__NBcQvd8",
        "colab_type": "code",
        "colab": {}
      },
      "source": [
        "train = train[train['GarageArea'] < 1200]"
      ],
      "execution_count": null,
      "outputs": []
    },
    {
      "cell_type": "markdown",
      "metadata": {
        "id": "nGcdMo8iOvBB",
        "colab_type": "text"
      },
      "source": [
        "Let's take another look"
      ]
    },
    {
      "cell_type": "code",
      "metadata": {
        "id": "1ZhLdkBdQz-o",
        "colab_type": "code",
        "colab": {
          "base_uri": "https://localhost:8080/",
          "height": 390
        },
        "outputId": "51aecd06-aa77-4083-bb9a-6b50959205af"
      },
      "source": [
        "plt.scatter(x=train['GarageArea'], y=np.log(train.SalePrice))\n",
        "plt.xlim(-200,1600) # This forces the same scale as before\n",
        "plt.ylabel('Sale Price')\n",
        "plt.xlabel('Garage Area')\n",
        "plt.show()"
      ],
      "execution_count": null,
      "outputs": [
        {
          "output_type": "display_data",
          "data": {
            "image/png": "[encoded data removed]",
            "text/plain": [
              "<Figure size 720x432 with 1 Axes>"
            ]
          },
          "metadata": {
            "tags": []
          }
        }
      ]
    },
    {
      "cell_type": "markdown",
      "metadata": {
        "id": "DYefGdPDO1ns",
        "colab_type": "text"
      },
      "source": [
        "Now, I want to know anout Null values and missng values so,i use train.isnull.sum()methods, we return a Series of the counts of the null values in each column."
      ]
    },
    {
      "cell_type": "code",
      "metadata": {
        "id": "slt0CyazQ3pi",
        "colab_type": "code",
        "colab": {
          "base_uri": "https://localhost:8080/",
          "height": 822
        },
        "outputId": "6f1d148b-7110-47e5-f909-7f9cf1b0774a"
      },
      "source": [
        "nulls = pd.DataFrame(train.isnull().sum().sort_values(ascending=False)[:25])\n",
        "nulls.columns = ['Null Count']\n",
        "nulls.index.name = 'Feature'\n",
        "nulls"
      ],
      "execution_count": null,
      "outputs": [
        {
          "output_type": "execute_result",
          "data": {
            "text/html": [
              "<div>\n",
              "<style scoped>\n",
              "    .dataframe tbody tr th:only-of-type {\n",
              "        vertical-align: middle;\n",
              "    }\n",
              "\n",
              "    .dataframe tbody tr th {\n",
              "        vertical-align: top;\n",
              "    }\n",
              "\n",
              "    .dataframe thead th {\n",
              "        text-align: right;\n",
              "    }\n",
              "</style>\n",
              "<table border=\"1\" class=\"dataframe\">\n",
              "  <thead>\n",
              "    <tr style=\"text-align: right;\">\n",
              "      <th></th>\n",
              "      <th>Null Count</th>\n",
              "    </tr>\n",
              "    <tr>\n",
              "      <th>Feature</th>\n",
              "      <th></th>\n",
              "    </tr>\n",
              "  </thead>\n",
              "  <tbody>\n",
              "    <tr>\n",
              "      <th>PoolQC</th>\n",
              "      <td>1449</td>\n",
              "    </tr>\n",
              "    <tr>\n",
              "      <th>MiscFeature</th>\n",
              "      <td>1402</td>\n",
              "    </tr>\n",
              "    <tr>\n",
              "      <th>Alley</th>\n",
              "      <td>1364</td>\n",
              "    </tr>\n",
              "    <tr>\n",
              "      <th>Fence</th>\n",
              "      <td>1174</td>\n",
              "    </tr>\n",
              "    <tr>\n",
              "      <th>FireplaceQu</th>\n",
              "      <td>689</td>\n",
              "    </tr>\n",
              "    <tr>\n",
              "      <th>LotFrontage</th>\n",
              "      <td>258</td>\n",
              "    </tr>\n",
              "    <tr>\n",
              "      <th>GarageCond</th>\n",
              "      <td>81</td>\n",
              "    </tr>\n",
              "    <tr>\n",
              "      <th>GarageType</th>\n",
              "      <td>81</td>\n",
              "    </tr>\n",
              "    <tr>\n",
              "      <th>GarageYrBlt</th>\n",
              "      <td>81</td>\n",
              "    </tr>\n",
              "    <tr>\n",
              "      <th>GarageFinish</th>\n",
              "      <td>81</td>\n",
              "    </tr>\n",
              "    <tr>\n",
              "      <th>GarageQual</th>\n",
              "      <td>81</td>\n",
              "    </tr>\n",
              "    <tr>\n",
              "      <th>BsmtExposure</th>\n",
              "      <td>38</td>\n",
              "    </tr>\n",
              "    <tr>\n",
              "      <th>BsmtFinType2</th>\n",
              "      <td>38</td>\n",
              "    </tr>\n",
              "    <tr>\n",
              "      <th>BsmtFinType1</th>\n",
              "      <td>37</td>\n",
              "    </tr>\n",
              "    <tr>\n",
              "      <th>BsmtCond</th>\n",
              "      <td>37</td>\n",
              "    </tr>\n",
              "    <tr>\n",
              "      <th>BsmtQual</th>\n",
              "      <td>37</td>\n",
              "    </tr>\n",
              "    <tr>\n",
              "      <th>MasVnrArea</th>\n",
              "      <td>8</td>\n",
              "    </tr>\n",
              "    <tr>\n",
              "      <th>MasVnrType</th>\n",
              "      <td>8</td>\n",
              "    </tr>\n",
              "    <tr>\n",
              "      <th>Electrical</th>\n",
              "      <td>1</td>\n",
              "    </tr>\n",
              "    <tr>\n",
              "      <th>Utilities</th>\n",
              "      <td>0</td>\n",
              "    </tr>\n",
              "    <tr>\n",
              "      <th>YearRemodAdd</th>\n",
              "      <td>0</td>\n",
              "    </tr>\n",
              "    <tr>\n",
              "      <th>MSSubClass</th>\n",
              "      <td>0</td>\n",
              "    </tr>\n",
              "    <tr>\n",
              "      <th>Foundation</th>\n",
              "      <td>0</td>\n",
              "    </tr>\n",
              "    <tr>\n",
              "      <th>ExterCond</th>\n",
              "      <td>0</td>\n",
              "    </tr>\n",
              "    <tr>\n",
              "      <th>ExterQual</th>\n",
              "      <td>0</td>\n",
              "    </tr>\n",
              "  </tbody>\n",
              "</table>\n",
              "</div>"
            ],
            "text/plain": [
              "              Null Count\n",
              "Feature                 \n",
              "PoolQC              1449\n",
              "MiscFeature         1402\n",
              "Alley               1364\n",
              "Fence               1174\n",
              "FireplaceQu          689\n",
              "LotFrontage          258\n",
              "GarageCond            81\n",
              "GarageType            81\n",
              "GarageYrBlt           81\n",
              "GarageFinish          81\n",
              "GarageQual            81\n",
              "BsmtExposure          38\n",
              "BsmtFinType2          38\n",
              "BsmtFinType1          37\n",
              "BsmtCond              37\n",
              "BsmtQual              37\n",
              "MasVnrArea             8\n",
              "MasVnrType             8\n",
              "Electrical             1\n",
              "Utilities              0\n",
              "YearRemodAdd           0\n",
              "MSSubClass             0\n",
              "Foundation             0\n",
              "ExterCond              0\n",
              "ExterQual              0"
            ]
          },
          "metadata": {
            "tags": []
          },
          "execution_count": 244
        }
      ]
    },
    {
      "cell_type": "markdown",
      "metadata": {
        "id": "uZHOmZ2nPeuc",
        "colab_type": "text"
      },
      "source": [
        "I use the Series.unique() method to return a list of the unique values."
      ]
    },
    {
      "cell_type": "code",
      "metadata": {
        "id": "8J-2bFpMQ7o7",
        "colab_type": "code",
        "colab": {
          "base_uri": "https://localhost:8080/",
          "height": 33
        },
        "outputId": "b6844e98-0369-4f78-efbe-746183e674fb"
      },
      "source": [
        "print (\"Unique values are:\", train.MiscFeature.unique())"
      ],
      "execution_count": null,
      "outputs": [
        {
          "output_type": "stream",
          "text": [
            "Unique values are: [nan 'Shed' 'Gar2' 'Othr' 'TenC']\n"
          ],
          "name": "stdout"
        }
      ]
    },
    {
      "cell_type": "markdown",
      "metadata": {
        "id": "8zvsLKlcPz5J",
        "colab_type": "text"
      },
      "source": [
        "Let’s now consider the non-numeric features."
      ]
    },
    {
      "cell_type": "code",
      "metadata": {
        "id": "PTt1TvGLRM6s",
        "colab_type": "code",
        "colab": {
          "base_uri": "https://localhost:8080/",
          "height": 186
        },
        "outputId": "79cf49b0-bcf5-407c-fca8-0498e9c96ef5"
      },
      "source": [
        "categoricals = train.select_dtypes(exclude=[np.number])\n",
        "categoricals.describe()"
      ],
      "execution_count": null,
      "outputs": [
        {
          "output_type": "execute_result",
          "data": {
            "text/html": [
              "<div>\n",
              "<style scoped>\n",
              "    .dataframe tbody tr th:only-of-type {\n",
              "        vertical-align: middle;\n",
              "    }\n",
              "\n",
              "    .dataframe tbody tr th {\n",
              "        vertical-align: top;\n",
              "    }\n",
              "\n",
              "    .dataframe thead th {\n",
              "        text-align: right;\n",
              "    }\n",
              "</style>\n",
              "<table border=\"1\" class=\"dataframe\">\n",
              "  <thead>\n",
              "    <tr style=\"text-align: right;\">\n",
              "      <th></th>\n",
              "      <th>MSZoning</th>\n",
              "      <th>Street</th>\n",
              "      <th>Alley</th>\n",
              "      <th>LotShape</th>\n",
              "      <th>LandContour</th>\n",
              "      <th>Utilities</th>\n",
              "      <th>LotConfig</th>\n",
              "      <th>LandSlope</th>\n",
              "      <th>Neighborhood</th>\n",
              "      <th>Condition1</th>\n",
              "      <th>Condition2</th>\n",
              "      <th>BldgType</th>\n",
              "      <th>HouseStyle</th>\n",
              "      <th>RoofStyle</th>\n",
              "      <th>RoofMatl</th>\n",
              "      <th>Exterior1st</th>\n",
              "      <th>Exterior2nd</th>\n",
              "      <th>MasVnrType</th>\n",
              "      <th>ExterQual</th>\n",
              "      <th>ExterCond</th>\n",
              "      <th>Foundation</th>\n",
              "      <th>BsmtQual</th>\n",
              "      <th>BsmtCond</th>\n",
              "      <th>BsmtExposure</th>\n",
              "      <th>BsmtFinType1</th>\n",
              "      <th>BsmtFinType2</th>\n",
              "      <th>Heating</th>\n",
              "      <th>HeatingQC</th>\n",
              "      <th>CentralAir</th>\n",
              "      <th>Electrical</th>\n",
              "      <th>KitchenQual</th>\n",
              "      <th>Functional</th>\n",
              "      <th>FireplaceQu</th>\n",
              "      <th>GarageType</th>\n",
              "      <th>GarageFinish</th>\n",
              "      <th>GarageQual</th>\n",
              "      <th>GarageCond</th>\n",
              "      <th>PavedDrive</th>\n",
              "      <th>PoolQC</th>\n",
              "      <th>Fence</th>\n",
              "      <th>MiscFeature</th>\n",
              "      <th>SaleType</th>\n",
              "      <th>SaleCondition</th>\n",
              "    </tr>\n",
              "  </thead>\n",
              "  <tbody>\n",
              "    <tr>\n",
              "      <th>count</th>\n",
              "      <td>1455</td>\n",
              "      <td>1455</td>\n",
              "      <td>91</td>\n",
              "      <td>1455</td>\n",
              "      <td>1455</td>\n",
              "      <td>1455</td>\n",
              "      <td>1455</td>\n",
              "      <td>1455</td>\n",
              "      <td>1455</td>\n",
              "      <td>1455</td>\n",
              "      <td>1455</td>\n",
              "      <td>1455</td>\n",
              "      <td>1455</td>\n",
              "      <td>1455</td>\n",
              "      <td>1455</td>\n",
              "      <td>1455</td>\n",
              "      <td>1455</td>\n",
              "      <td>1447</td>\n",
              "      <td>1455</td>\n",
              "      <td>1455</td>\n",
              "      <td>1455</td>\n",
              "      <td>1418</td>\n",
              "      <td>1418</td>\n",
              "      <td>1417</td>\n",
              "      <td>1418</td>\n",
              "      <td>1417</td>\n",
              "      <td>1455</td>\n",
              "      <td>1455</td>\n",
              "      <td>1455</td>\n",
              "      <td>1454</td>\n",
              "      <td>1455</td>\n",
              "      <td>1455</td>\n",
              "      <td>766</td>\n",
              "      <td>1374</td>\n",
              "      <td>1374</td>\n",
              "      <td>1374</td>\n",
              "      <td>1374</td>\n",
              "      <td>1455</td>\n",
              "      <td>6</td>\n",
              "      <td>281</td>\n",
              "      <td>53</td>\n",
              "      <td>1455</td>\n",
              "      <td>1455</td>\n",
              "    </tr>\n",
              "    <tr>\n",
              "      <th>unique</th>\n",
              "      <td>5</td>\n",
              "      <td>2</td>\n",
              "      <td>2</td>\n",
              "      <td>4</td>\n",
              "      <td>4</td>\n",
              "      <td>2</td>\n",
              "      <td>5</td>\n",
              "      <td>3</td>\n",
              "      <td>25</td>\n",
              "      <td>9</td>\n",
              "      <td>8</td>\n",
              "      <td>5</td>\n",
              "      <td>8</td>\n",
              "      <td>6</td>\n",
              "      <td>7</td>\n",
              "      <td>15</td>\n",
              "      <td>16</td>\n",
              "      <td>4</td>\n",
              "      <td>4</td>\n",
              "      <td>5</td>\n",
              "      <td>6</td>\n",
              "      <td>4</td>\n",
              "      <td>4</td>\n",
              "      <td>4</td>\n",
              "      <td>6</td>\n",
              "      <td>6</td>\n",
              "      <td>6</td>\n",
              "      <td>5</td>\n",
              "      <td>2</td>\n",
              "      <td>5</td>\n",
              "      <td>4</td>\n",
              "      <td>7</td>\n",
              "      <td>5</td>\n",
              "      <td>6</td>\n",
              "      <td>3</td>\n",
              "      <td>5</td>\n",
              "      <td>5</td>\n",
              "      <td>3</td>\n",
              "      <td>3</td>\n",
              "      <td>4</td>\n",
              "      <td>4</td>\n",
              "      <td>9</td>\n",
              "      <td>6</td>\n",
              "    </tr>\n",
              "    <tr>\n",
              "      <th>top</th>\n",
              "      <td>RL</td>\n",
              "      <td>Pave</td>\n",
              "      <td>Grvl</td>\n",
              "      <td>Reg</td>\n",
              "      <td>Lvl</td>\n",
              "      <td>AllPub</td>\n",
              "      <td>Inside</td>\n",
              "      <td>Gtl</td>\n",
              "      <td>NAmes</td>\n",
              "      <td>Norm</td>\n",
              "      <td>Norm</td>\n",
              "      <td>1Fam</td>\n",
              "      <td>1Story</td>\n",
              "      <td>Gable</td>\n",
              "      <td>CompShg</td>\n",
              "      <td>VinylSd</td>\n",
              "      <td>VinylSd</td>\n",
              "      <td>None</td>\n",
              "      <td>TA</td>\n",
              "      <td>TA</td>\n",
              "      <td>PConc</td>\n",
              "      <td>TA</td>\n",
              "      <td>TA</td>\n",
              "      <td>No</td>\n",
              "      <td>Unf</td>\n",
              "      <td>Unf</td>\n",
              "      <td>GasA</td>\n",
              "      <td>Ex</td>\n",
              "      <td>Y</td>\n",
              "      <td>SBrkr</td>\n",
              "      <td>TA</td>\n",
              "      <td>Typ</td>\n",
              "      <td>Gd</td>\n",
              "      <td>Attchd</td>\n",
              "      <td>Unf</td>\n",
              "      <td>TA</td>\n",
              "      <td>TA</td>\n",
              "      <td>Y</td>\n",
              "      <td>Fa</td>\n",
              "      <td>MnPrv</td>\n",
              "      <td>Shed</td>\n",
              "      <td>WD</td>\n",
              "      <td>Normal</td>\n",
              "    </tr>\n",
              "    <tr>\n",
              "      <th>freq</th>\n",
              "      <td>1147</td>\n",
              "      <td>1450</td>\n",
              "      <td>50</td>\n",
              "      <td>921</td>\n",
              "      <td>1309</td>\n",
              "      <td>1454</td>\n",
              "      <td>1048</td>\n",
              "      <td>1378</td>\n",
              "      <td>225</td>\n",
              "      <td>1257</td>\n",
              "      <td>1441</td>\n",
              "      <td>1216</td>\n",
              "      <td>722</td>\n",
              "      <td>1139</td>\n",
              "      <td>1430</td>\n",
              "      <td>514</td>\n",
              "      <td>503</td>\n",
              "      <td>863</td>\n",
              "      <td>905</td>\n",
              "      <td>1278</td>\n",
              "      <td>644</td>\n",
              "      <td>647</td>\n",
              "      <td>1306</td>\n",
              "      <td>951</td>\n",
              "      <td>428</td>\n",
              "      <td>1251</td>\n",
              "      <td>1423</td>\n",
              "      <td>737</td>\n",
              "      <td>1360</td>\n",
              "      <td>1329</td>\n",
              "      <td>733</td>\n",
              "      <td>1355</td>\n",
              "      <td>377</td>\n",
              "      <td>867</td>\n",
              "      <td>605</td>\n",
              "      <td>1306</td>\n",
              "      <td>1321</td>\n",
              "      <td>1335</td>\n",
              "      <td>2</td>\n",
              "      <td>157</td>\n",
              "      <td>48</td>\n",
              "      <td>1266</td>\n",
              "      <td>1196</td>\n",
              "    </tr>\n",
              "  </tbody>\n",
              "</table>\n",
              "</div>"
            ],
            "text/plain": [
              "       MSZoning Street Alley LotShape  ...  Fence MiscFeature SaleType SaleCondition\n",
              "count      1455   1455    91     1455  ...    281          53     1455          1455\n",
              "unique        5      2     2        4  ...      4           4        9             6\n",
              "top          RL   Pave  Grvl      Reg  ...  MnPrv        Shed       WD        Normal\n",
              "freq       1147   1450    50      921  ...    157          48     1266          1196\n",
              "\n",
              "[4 rows x 43 columns]"
            ]
          },
          "metadata": {
            "tags": []
          },
          "execution_count": 246
        }
      ]
    },
    {
      "cell_type": "markdown",
      "metadata": {
        "id": "ov9FxHYMQExh",
        "colab_type": "text"
      },
      "source": [
        "The count column indicates the count of non-null observations, while unique counts the number of unique values. top is the most commonly occurring value, with the frequency of the top value shown by freq.\n",
        "\n",
        "For many of these features, we might want to use one-hot encoding to make use of the information for modeling.\n",
        "One-hot encoding is a technique which will transform categorical data into numbers so the model can understand whether or not a particular observation falls into one category or another."
      ]
    },
    {
      "cell_type": "code",
      "metadata": {
        "id": "-oRW1_j4RST9",
        "colab_type": "code",
        "colab": {
          "base_uri": "https://localhost:8080/",
          "height": 117
        },
        "outputId": "f918d753-37f7-4504-dbb4-65535c834bd9"
      },
      "source": [
        "print (\"Original: \\n\")\n",
        "print (train.Street.value_counts(), \"\\n\")"
      ],
      "execution_count": null,
      "outputs": [
        {
          "output_type": "stream",
          "text": [
            "Original: \n",
            "\n",
            "Pave    1450\n",
            "Grvl       5\n",
            "Name: Street, dtype: int64 \n",
            "\n"
          ],
          "name": "stdout"
        }
      ]
    },
    {
      "cell_type": "markdown",
      "metadata": {
        "id": "J9-JtzdMQQBT",
        "colab_type": "text"
      },
      "source": [
        "In the Street column, the unique values are Pave and Grvl, which describe the type of road access to the property. In the training set, only 5 homes have gravel access. Our model needs numerical data, so we will use one-hot encoding to transform the data into a Boolean column.\n",
        "\n",
        "I create a new column called enc_street. The pd.get_dummies() method will handle this for me.\n",
        "\n",
        "As mentioned earlier, we need to do this on both the train and test data."
      ]
    },
    {
      "cell_type": "code",
      "metadata": {
        "id": "drEoZg0ARWs7",
        "colab_type": "code",
        "colab": {}
      },
      "source": [
        "train['enc_street'] = pd.get_dummies(train.Street, drop_first=True)\n",
        "test['enc_street'] = pd.get_dummies(train.Street, drop_first=True)"
      ],
      "execution_count": null,
      "outputs": []
    },
    {
      "cell_type": "code",
      "metadata": {
        "id": "QtufqjGVRalt",
        "colab_type": "code",
        "colab": {
          "base_uri": "https://localhost:8080/",
          "height": 100
        },
        "outputId": "7c47c907-05cb-47fd-edc3-2ec8b08eb2b8"
      },
      "source": [
        "print ('Encoded: \\n')\n",
        "print (train.enc_street.value_counts())"
      ],
      "execution_count": null,
      "outputs": [
        {
          "output_type": "stream",
          "text": [
            "Encoded: \n",
            "\n",
            "1    1450\n",
            "0       5\n",
            "Name: enc_street, dtype: int64\n"
          ],
          "name": "stdout"
        }
      ]
    },
    {
      "cell_type": "code",
      "metadata": {
        "id": "FBMz4dZsRd8O",
        "colab_type": "code",
        "colab": {
          "base_uri": "https://localhost:8080/",
          "height": 388
        },
        "outputId": "67ad046e-66e2-471f-99d9-36980474cb47"
      },
      "source": [
        "condition_pivot = train.pivot_table(index='SaleCondition', values='SalePrice', aggfunc=np.median)\n",
        "condition_pivot.plot(kind='bar', color='blue')\n",
        "plt.xlabel('Sale Condition')\n",
        "plt.ylabel('Median Sale Price')\n",
        "plt.xticks(rotation=0)\n",
        "plt.show()"
      ],
      "execution_count": null,
      "outputs": [
        {
          "output_type": "display_data",
          "data": {
            "image/png": "[encoded data removed]",
            "text/plain": [
              "<Figure size 720x432 with 1 Axes>"
            ]
          },
          "metadata": {
            "tags": []
          }
        }
      ]
    },
    {
      "cell_type": "markdown",
      "metadata": {
        "id": "TP6lVusxQuHp",
        "colab_type": "text"
      },
      "source": [
        "Notice that Partial has a significantly higher Median Sale Price than the others. I will encode this as a new feature. I select all of the houses where SaleCondition is equal to Patrial and assign the value 1, otherwise assign 0."
      ]
    },
    {
      "cell_type": "code",
      "metadata": {
        "id": "30kThkKGRhue",
        "colab_type": "code",
        "colab": {}
      },
      "source": [
        "def encode(x):\n",
        " return 1 if x == 'Partial' else 0\n",
        "train['enc_condition'] = train.SaleCondition.apply(encode)\n",
        "test['enc_condition'] = test.SaleCondition.apply(encode)"
      ],
      "execution_count": null,
      "outputs": []
    },
    {
      "cell_type": "code",
      "metadata": {
        "id": "8UhMR0oJRmvV",
        "colab_type": "code",
        "colab": {
          "base_uri": "https://localhost:8080/",
          "height": 388
        },
        "outputId": "57b236a4-72fd-4950-a1dc-619fda5bf65a"
      },
      "source": [
        "condition_pivot = train.pivot_table(index='enc_condition', values='SalePrice', aggfunc=np.median)\n",
        "condition_pivot.plot(kind='bar', color='green')\n",
        "plt.xlabel('Encoded Sale Condition')\n",
        "plt.ylabel('Median Sale Price')\n",
        "plt.xticks(rotation=0)\n",
        "plt.show()"
      ],
      "execution_count": null,
      "outputs": [
        {
          "output_type": "display_data",
          "data": {
            "image/png": "[encoded data removed]",
            "text/plain": [
              "<Figure size 720x432 with 1 Axes>"
            ]
          },
          "metadata": {
            "tags": []
          }
        }
      ]
    },
    {
      "cell_type": "markdown",
      "metadata": {
        "id": "7D0oCtogQ9Gt",
        "colab_type": "text"
      },
      "source": [
        "Before data modeling, i need to deal with missing values.so, i have to choice one is fill with average of value or drop them."
      ]
    },
    {
      "cell_type": "code",
      "metadata": {
        "id": "s7jQfmO-RsPP",
        "colab_type": "code",
        "colab": {}
      },
      "source": [
        "data = train.select_dtypes(include=[np.number]).interpolate().dropna()"
      ],
      "execution_count": null,
      "outputs": []
    },
    {
      "cell_type": "code",
      "metadata": {
        "id": "r60UGkuxRwMi",
        "colab_type": "code",
        "colab": {
          "base_uri": "https://localhost:8080/",
          "height": 33
        },
        "outputId": "a29ef4fa-5ce0-40a4-de7c-98fd092a55de"
      },
      "source": [
        "sum(data.isnull().sum() != 0)"
      ],
      "execution_count": null,
      "outputs": [
        {
          "output_type": "execute_result",
          "data": {
            "text/plain": [
              "0"
            ]
          },
          "metadata": {
            "tags": []
          },
          "execution_count": 256
        }
      ]
    },
    {
      "cell_type": "markdown",
      "metadata": {
        "id": "Zu57HBKrRgBD",
        "colab_type": "text"
      },
      "source": [
        "Here I am going to  use linear reggression."
      ]
    },
    {
      "cell_type": "code",
      "metadata": {
        "id": "A-RjzG1wRzGI",
        "colab_type": "code",
        "colab": {}
      },
      "source": [
        "y = np.log(train.SalePrice)\n",
        "X = data.drop(['SalePrice', 'Id'], axis=1)"
      ],
      "execution_count": null,
      "outputs": []
    },
    {
      "cell_type": "markdown",
      "metadata": {
        "id": "BugUdXoNR2XG",
        "colab_type": "text"
      },
      "source": [
        "train_test_split() returns four objects:\n",
        "\n",
        "X_train is the subset of our features used for training.\n",
        "\n",
        "X_test is the subset which will be our ‘hold-out’ set – what i’ll use to test the model.\n",
        "\n",
        "y_train is the target variable SalePrice which corresponds to X_train.\n",
        "\n",
        "y_test is the target variable SalePrice which corresponds to X_test."
      ]
    },
    {
      "cell_type": "code",
      "metadata": {
        "id": "dllpNev6R3S5",
        "colab_type": "code",
        "colab": {}
      },
      "source": [
        "from sklearn.model_selection import train_test_split\n",
        "X_train, X_test, y_train, y_test = train_test_split(\n",
        "                          X, y, random_state=42, test_size=.33)"
      ],
      "execution_count": null,
      "outputs": []
    },
    {
      "cell_type": "markdown",
      "metadata": {
        "id": "So2AAvo9SIzK",
        "colab_type": "text"
      },
      "source": [
        "Import linear reggression from sk-learn library"
      ]
    },
    {
      "cell_type": "code",
      "metadata": {
        "id": "7IxVnNZVR7TT",
        "colab_type": "code",
        "colab": {}
      },
      "source": [
        "from sklearn import linear_model\n",
        "lr = linear_model.LinearRegression()"
      ],
      "execution_count": null,
      "outputs": []
    },
    {
      "cell_type": "markdown",
      "metadata": {
        "id": "orLmklCbSTYM",
        "colab_type": "text"
      },
      "source": [
        "I'll fit the model using X_train and y_train, and we’ll score with X_test and y_test. The lr.fit() method will fit the linear regression on the features and target variable that we pass."
      ]
    },
    {
      "cell_type": "code",
      "metadata": {
        "id": "ylwRK9gAR-v6",
        "colab_type": "code",
        "colab": {}
      },
      "source": [
        "model = lr.fit(X_train, y_train)"
      ],
      "execution_count": null,
      "outputs": []
    },
    {
      "cell_type": "markdown",
      "metadata": {
        "id": "mrfVZfYFSo7c",
        "colab_type": "text"
      },
      "source": [
        "Now i need to evaluate the model.\n",
        "so i use root-mean-squared-error (RMSE).\n",
        "also look at the  r-squared value. The r-squared value is a measure of how close the data are to the fitted regression line. It takes a value between 0 and 1, 1 meaning that all of the variance in the target is explained by the data. In general, a higher r-squared value means a better fit."
      ]
    },
    {
      "cell_type": "code",
      "metadata": {
        "id": "qoTbowMWSCP-",
        "colab_type": "code",
        "colab": {
          "base_uri": "https://localhost:8080/",
          "height": 50
        },
        "outputId": "bc63ae1e-4fcd-4b31-9730-c747c6915e5e"
      },
      "source": [
        "print (\"R^2 is: \\n\", model.score(X_test, y_test))"
      ],
      "execution_count": null,
      "outputs": [
        {
          "output_type": "stream",
          "text": [
            "R^2 is: \n",
            " 0.8882477709262494\n"
          ],
          "name": "stdout"
        }
      ]
    },
    {
      "cell_type": "markdown",
      "metadata": {
        "id": "rHVXTrFKTMDM",
        "colab_type": "text"
      },
      "source": [
        "This means that our features explain approximately 89% of the variance in our target variable"
      ]
    },
    {
      "cell_type": "code",
      "metadata": {
        "id": "G6Fp1PjTSF6Y",
        "colab_type": "code",
        "colab": {}
      },
      "source": [
        "predictions = model.predict(X_test)"
      ],
      "execution_count": null,
      "outputs": []
    },
    {
      "cell_type": "markdown",
      "metadata": {
        "id": "0zc7Bvd5TWpk",
        "colab_type": "text"
      },
      "source": [
        "Now ,let's know anbout  rmse"
      ]
    },
    {
      "cell_type": "markdown",
      "metadata": {
        "id": "5QeNM8cbmk4d",
        "colab_type": "text"
      },
      "source": [
        "The model.predict() method will return a list of predictions given a set of predictors. Use model.predict() after fitting the model.\n",
        "\n",
        "The mean_squared_error function takes two arrays and calculates the rmse."
      ]
    },
    {
      "cell_type": "code",
      "metadata": {
        "id": "dffK_72mSJpq",
        "colab_type": "code",
        "colab": {
          "base_uri": "https://localhost:8080/",
          "height": 50
        },
        "outputId": "6df23d3c-65db-4a79-c2cf-f5e4deb9789f"
      },
      "source": [
        "from sklearn.metrics import mean_squared_error\n",
        "print ('RMSE is: \\n', mean_squared_error(y_test, predictions))"
      ],
      "execution_count": null,
      "outputs": [
        {
          "output_type": "stream",
          "text": [
            "RMSE is: \n",
            " 0.017841794519568518\n"
          ],
          "name": "stdout"
        }
      ]
    },
    {
      "cell_type": "markdown",
      "metadata": {
        "id": "CB4-JOgtmw2i",
        "colab_type": "text"
      },
      "source": [
        "Interpreting this value is somewhat more intuitive that the r-squared value. The RMSE measures the distance between our predicted values and actual values.\n",
        "\n",
        "We can view this relationship graphically with a scatter plot."
      ]
    },
    {
      "cell_type": "code",
      "metadata": {
        "id": "ax9gvXs3SPSv",
        "colab_type": "code",
        "colab": {
          "base_uri": "https://localhost:8080/",
          "height": 408
        },
        "outputId": "1593209a-e078-4633-b0d9-ec1ea0070a98"
      },
      "source": [
        "actual_values = y_test\n",
        "plt.scatter(predictions, actual_values, alpha=.7,\n",
        "            color='b') #alpha helps to show overlapping data\n",
        "plt.xlabel('Predicted Price')\n",
        "plt.ylabel('Actual Price')\n",
        "plt.title('Linear Regression Model')\n",
        "plt.show()"
      ],
      "execution_count": null,
      "outputs": [
        {
          "output_type": "display_data",
          "data": {
            "image/png": "[encoded data removed]",
            "text/plain": [
              "<Figure size 720x432 with 1 Axes>"
            ]
          },
          "metadata": {
            "tags": []
          }
        }
      ]
    },
    {
      "cell_type": "markdown",
      "metadata": {
        "id": "2QM1tLSYm8_R",
        "colab_type": "text"
      },
      "source": [
        "Try to improve the model using regularization techniques.(Here i use Ridge Regularization (L2))"
      ]
    },
    {
      "cell_type": "markdown",
      "metadata": {
        "id": "OxEuk53ynRGV",
        "colab_type": "text"
      },
      "source": [
        "The Ridge Regularization model takes a parameter, alpha , which controls the strength of the regularization."
      ]
    },
    {
      "cell_type": "code",
      "metadata": {
        "id": "Iw9aLSQlSTY0",
        "colab_type": "code",
        "colab": {
          "base_uri": "https://localhost:8080/",
          "height": 1000
        },
        "outputId": "374a1e34-6d48-4217-95eb-e096b59dc6ae"
      },
      "source": [
        "for i in range (-2, 3):\n",
        "    alpha = 10**i\n",
        "    rm = linear_model.Ridge(alpha=alpha)\n",
        "    ridge_model = rm.fit(X_train, y_train)\n",
        "    preds_ridge = ridge_model.predict(X_test)\n",
        "\n",
        "    plt.scatter(preds_ridge, actual_values, alpha=.75, color='b')\n",
        "    plt.xlabel('Predicted Price')\n",
        "    plt.ylabel('Actual Price')\n",
        "    plt.title('Ridge Regularization with alpha = {}'.format(alpha))\n",
        "    overlay = 'R^2 is: {}\\nRMSE is: {}'.format(\n",
        "                    ridge_model.score(X_test, y_test),\n",
        "                    mean_squared_error(y_test, preds_ridge))\n",
        "    plt.annotate(s=overlay,xy=(12.1,10.6),size='x-large')\n",
        "    plt.show()"
      ],
      "execution_count": null,
      "outputs": [
        {
          "output_type": "display_data",
          "data": {
            "image/png": "[encoded data removed]",
            "text/plain": [
              "<Figure size 720x432 with 1 Axes>"
            ]
          },
          "metadata": {
            "tags": []
          }
        },
        {
          "output_type": "display_data",
          "data": {
            "image/png": "[encoded data removed]",
            "text/plain": [
              "<Figure size 720x432 with 1 Axes>"
            ]
          },
          "metadata": {
            "tags": []
          }
        },
        {
          "output_type": "display_data",
          "data": {
            "image/png": "[encoded data removed]",
            "text/plain": [
              "<Figure size 720x432 with 1 Axes>"
            ]
          },
          "metadata": {
            "tags": []
          }
        },
        {
          "output_type": "display_data",
          "data": {
            "image/png": "[encoded data removed]",
            "text/plain": [
              "<Figure size 720x432 with 1 Axes>"
            ]
          },
          "metadata": {
            "tags": []
          }
        },
        {
          "output_type": "display_data",
          "data": {
            "image/png": "[encoded data removed]",
            "text/plain": [
              "<Figure size 720x432 with 1 Axes>"
            ]
          },
          "metadata": {
            "tags": []
          }
        }
      ]
    },
    {
      "cell_type": "markdown",
      "metadata": {
        "id": "mQ24xYBkncpv",
        "colab_type": "text"
      },
      "source": [
        "These models perform almost identically to the first model. In our case, adjusting the alpha did not substantially improve our model. \n",
        "So, i need to add more data."
      ]
    },
    {
      "cell_type": "markdown",
      "metadata": {
        "id": "7gtZ-UR4nm0M",
        "colab_type": "text"
      },
      "source": [
        "I will use the DataFrame.to_csv() to create a csv to download the result.\n",
        "The first column must the contain the ID from the test data."
      ]
    },
    {
      "cell_type": "code",
      "metadata": {
        "id": "aihgfGJmSXxU",
        "colab_type": "code",
        "colab": {}
      },
      "source": [
        "Result = pd.DataFrame()\n",
        "Result['Id'] = test.Id"
      ],
      "execution_count": null,
      "outputs": []
    },
    {
      "cell_type": "markdown",
      "metadata": {
        "id": "2YpZh_NLn4rt",
        "colab_type": "text"
      },
      "source": [
        "Now, select the features from the test data for the model as we did above."
      ]
    },
    {
      "cell_type": "code",
      "metadata": {
        "id": "ugfb3GwPSdpx",
        "colab_type": "code",
        "colab": {}
      },
      "source": [
        "feats = test.select_dtypes(\n",
        "        include=[np.number]).drop(['Id'], axis=1).interpolate()"
      ],
      "execution_count": null,
      "outputs": []
    },
    {
      "cell_type": "markdown",
      "metadata": {
        "id": "07loXBOmn8ex",
        "colab_type": "text"
      },
      "source": [
        "Now let's generate predictionss"
      ]
    },
    {
      "cell_type": "code",
      "metadata": {
        "id": "whv0KDN6SmTO",
        "colab_type": "code",
        "colab": {}
      },
      "source": [
        "predictions = model.predict(feats)"
      ],
      "execution_count": null,
      "outputs": []
    },
    {
      "cell_type": "markdown",
      "metadata": {
        "id": "ytjLYI8LoGM6",
        "colab_type": "text"
      },
      "source": [
        "Now I’ll transform the predictions to the correct form. Remember that to reverse log() I do exp().\n",
        "So I will apply np.exp() to our predictions becasuse I have taken the logarithm previously."
      ]
    },
    {
      "cell_type": "code",
      "metadata": {
        "id": "KoZcR6e2SpSt",
        "colab_type": "code",
        "colab": {}
      },
      "source": [
        "final_predictions = np.exp(predictions)"
      ],
      "execution_count": null,
      "outputs": []
    },
    {
      "cell_type": "markdown",
      "metadata": {
        "id": "Atc1XvRVoRZv",
        "colab_type": "text"
      },
      "source": [
        "Observe the difference"
      ]
    },
    {
      "cell_type": "code",
      "metadata": {
        "id": "9Dp2D_idSwMm",
        "colab_type": "code",
        "colab": {
          "base_uri": "https://localhost:8080/",
          "height": 117
        },
        "outputId": "c7dbca11-822d-43d5-e4a7-e1bd7e16f15f"
      },
      "source": [
        "print (\" Real predictions are: \\n\", predictions[:5], \"\\n\")\n",
        "print (\"Final  predictions are: \\n\", final_predictions[:5])"
      ],
      "execution_count": null,
      "outputs": [
        {
          "output_type": "stream",
          "text": [
            " Real predictions are: \n",
            " [11.76725362 11.71929504 12.07656074 12.20632678 12.11217655] \n",
            "\n",
            "Final  predictions are: \n",
            " [128959.49172586 122920.74024355 175704.82598101 200050.83263755\n",
            " 182075.46986405]\n"
          ],
          "name": "stdout"
        }
      ]
    },
    {
      "cell_type": "markdown",
      "metadata": {
        "id": "s4y67-W0ohuA",
        "colab_type": "text"
      },
      "source": [
        "Lets assign these predictions and check that everything looks good."
      ]
    },
    {
      "cell_type": "code",
      "metadata": {
        "id": "THV8K1uwSz1Y",
        "colab_type": "code",
        "colab": {
          "base_uri": "https://localhost:8080/",
          "height": 196
        },
        "outputId": "f214b55c-c040-4e77-94ce-530486fbce0e"
      },
      "source": [
        "Result['SalePrice'] = final_predictions\n",
        "Result.head()"
      ],
      "execution_count": null,
      "outputs": [
        {
          "output_type": "execute_result",
          "data": {
            "text/html": [
              "<div>\n",
              "<style scoped>\n",
              "    .dataframe tbody tr th:only-of-type {\n",
              "        vertical-align: middle;\n",
              "    }\n",
              "\n",
              "    .dataframe tbody tr th {\n",
              "        vertical-align: top;\n",
              "    }\n",
              "\n",
              "    .dataframe thead th {\n",
              "        text-align: right;\n",
              "    }\n",
              "</style>\n",
              "<table border=\"1\" class=\"dataframe\">\n",
              "  <thead>\n",
              "    <tr style=\"text-align: right;\">\n",
              "      <th></th>\n",
              "      <th>Id</th>\n",
              "      <th>SalePrice</th>\n",
              "    </tr>\n",
              "  </thead>\n",
              "  <tbody>\n",
              "    <tr>\n",
              "      <th>0</th>\n",
              "      <td>1461</td>\n",
              "      <td>128959.491726</td>\n",
              "    </tr>\n",
              "    <tr>\n",
              "      <th>1</th>\n",
              "      <td>1462</td>\n",
              "      <td>122920.740244</td>\n",
              "    </tr>\n",
              "    <tr>\n",
              "      <th>2</th>\n",
              "      <td>1463</td>\n",
              "      <td>175704.825981</td>\n",
              "    </tr>\n",
              "    <tr>\n",
              "      <th>3</th>\n",
              "      <td>1464</td>\n",
              "      <td>200050.832638</td>\n",
              "    </tr>\n",
              "    <tr>\n",
              "      <th>4</th>\n",
              "      <td>1465</td>\n",
              "      <td>182075.469864</td>\n",
              "    </tr>\n",
              "  </tbody>\n",
              "</table>\n",
              "</div>"
            ],
            "text/plain": [
              "     Id      SalePrice\n",
              "0  1461  128959.491726\n",
              "1  1462  122920.740244\n",
              "2  1463  175704.825981\n",
              "3  1464  200050.832638\n",
              "4  1465  182075.469864"
            ]
          },
          "metadata": {
            "tags": []
          },
          "execution_count": 273
        }
      ]
    },
    {
      "cell_type": "code",
      "metadata": {
        "id": "z-r3sgvCTb2_",
        "colab_type": "code",
        "colab": {
          "base_uri": "https://localhost:8080/",
          "height": 17
        },
        "outputId": "d3eff328-dd00-42a0-aad8-45a2e98a7afc"
      },
      "source": [
        "from google.colab import files\n",
        "Result.to_csv('result.csv')\n",
        "files.download('result.csv')"
      ],
      "execution_count": null,
      "outputs": [
        {
          "output_type": "display_data",
          "data": {
            "application/javascript": [
              "\n",
              "    async function download(id, filename, size) {\n",
              "      if (!google.colab.kernel.accessAllowed) {\n",
              "        return;\n",
              "      }\n",
              "      const div = document.createElement('div');\n",
              "      const label = document.createElement('label');\n",
              "      label.textContent = `Downloading \"${filename}\": `;\n",
              "      div.appendChild(label);\n",
              "      const progress = document.createElement('progress');\n",
              "      progress.max = size;\n",
              "      div.appendChild(progress);\n",
              "      document.body.appendChild(div);\n",
              "\n",
              "      const buffers = [];\n",
              "      let downloaded = 0;\n",
              "\n",
              "      const channel = await google.colab.kernel.comms.open(id);\n",
              "      // Send a message to notify the kernel that we're ready.\n",
              "      channel.send({})\n",
              "\n",
              "      for await (const message of channel.messages) {\n",
              "        // Send a message to notify the kernel that we're ready.\n",
              "        channel.send({})\n",
              "        if (message.buffers) {\n",
              "          for (const buffer of message.buffers) {\n",
              "            buffers.push(buffer);\n",
              "            downloaded += buffer.byteLength;\n",
              "            progress.value = downloaded;\n",
              "          }\n",
              "        }\n",
              "      }\n",
              "      const blob = new Blob(buffers, {type: 'application/binary'});\n",
              "      const a = document.createElement('a');\n",
              "      a.href = window.URL.createObjectURL(blob);\n",
              "      a.download = filename;\n",
              "      div.appendChild(a);\n",
              "      a.click();\n",
              "      div.remove();\n",
              "    }\n",
              "  "
            ],
            "text/plain": [
              "<IPython.core.display.Javascript object>"
            ]
          },
          "metadata": {
            "tags": []
          }
        },
        {
          "output_type": "display_data",
          "data": {
            "application/javascript": [
              "download(\"download_5409cd89-95a4-45bf-bd4d-8a6d5b9801c1\", \"result.csv\", 40650)"
            ],
            "text/plain": [
              "<IPython.core.display.Javascript object>"
            ]
          },
          "metadata": {
            "tags": []
          }
        }
      ]
    },
    {
      "cell_type": "code",
      "metadata": {
        "id": "uiCSExstYkYP",
        "colab_type": "code",
        "colab": {}
      },
      "source": [
        ""
      ],
      "execution_count": null,
      "outputs": []
    }
  ]
}